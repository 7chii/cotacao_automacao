{
 "cells": [
  {
   "cell_type": "code",
   "execution_count": 24,
   "id": "8e6064f7",
   "metadata": {},
   "outputs": [],
   "source": [
    "import pandas as pd\n",
    "import yfinance as yf"
   ]
  },
  {
   "cell_type": "code",
   "execution_count": 40,
   "id": "36cf69f5",
   "metadata": {},
   "outputs": [
    {
     "name": "stdout",
     "output_type": "stream",
     "text": [
      "{'ITUB4.SA': 1000.0, 'BBAS3.SA': 2000.0, 'VALE3.SA': 1000.0, 'EGIE3.SA': 500.0, 'SLCE3.SA': 300.0}\n"
     ]
    }
   ],
   "source": [
    "with open(\"carteira.txt\", \"r\") as arquivo:\n",
    "    texto = arquivo.readlines()\n",
    "carteira = {}\n",
    "for linha in texto:\n",
    "    ticker, valor = linha.split(\"-\")\n",
    "    ticker = ticker.strip() + \".SA\"\n",
    "    valor = float(valor.strip())\n",
    "    carteira[ticker] = valor\n",
    "print(carteira)"
   ]
  },
  {
   "cell_type": "code",
   "execution_count": 39,
   "id": "85cb34a2",
   "metadata": {},
   "outputs": [
    {
     "name": "stderr",
     "output_type": "stream",
     "text": [
      "[*********************100%***********************]  6 of 6 completed"
     ]
    },
    {
     "name": "stdout",
     "output_type": "stream",
     "text": [
      "Ticker       BBAS3.SA   EGIE3.SA   ITUB4.SA   SLCE3.SA   VALE3.SA  \\\n",
      "Date                                                                \n",
      "2024-02-06  27.494270  38.016800  32.422089  18.527863  61.021706   \n",
      "2024-02-07  27.420458  38.656212  32.189106  18.690472  61.140697   \n",
      "2024-02-08  27.005278  38.223667  31.555387  18.269602  60.600677   \n",
      "2024-02-09  26.557804  37.903961  31.956121  18.365253  60.335251   \n",
      "2024-02-14  26.917631  37.988590  31.956121  17.762644  60.152199   \n",
      "...               ...        ...        ...        ...        ...   \n",
      "2025-01-31  27.680000  36.799999  33.792351  17.360001  54.169998   \n",
      "2025-02-03  27.610001  36.310001  33.480000  17.480000  54.209999   \n",
      "2025-02-04  27.770000  36.099998  33.599998  17.629999  54.020000   \n",
      "2025-02-05  27.830000  35.630001  34.110001  18.110001  54.310001   \n",
      "2025-02-06  27.860001  35.770000  33.919998  18.090000  55.310001   \n",
      "\n",
      "Ticker              ^BVSP  \n",
      "Date                       \n",
      "2024-02-06  130416.000000  \n",
      "2024-02-07  129608.000000  \n",
      "2024-02-08  128217.000000  \n",
      "2024-02-09  128026.000000  \n",
      "2024-02-14  127018.000000  \n",
      "...                   ...  \n",
      "2025-01-31  126135.000000  \n",
      "2025-02-03  125970.000000  \n",
      "2025-02-04  125147.000000  \n",
      "2025-02-05  125534.000000  \n",
      "2025-02-06  126008.796875  \n",
      "\n",
      "[252 rows x 6 columns]\n"
     ]
    },
    {
     "name": "stderr",
     "output_type": "stream",
     "text": [
      "\n"
     ]
    }
   ],
   "source": [
    "ativos = list(carteira.keys())\n",
    "ativos.append(\"^BVSP\")\n",
    "ticker = yf.Tickers(ativos)\n",
    "tabela_cotacoes = ticker.history(period=\"1y\")\n",
    "tabela_cotacoes = tabela_cotacoes[\"Close\"]\n",
    "print(tabela_cotacoes)"
   ]
  },
  {
   "cell_type": "code",
   "execution_count": 45,
   "id": "0736051c",
   "metadata": {},
   "outputs": [
    {
     "name": "stdout",
     "output_type": "stream",
     "text": [
      "{'BBAS3.SA': 1.0133020546217544, 'EGIE3.SA': 0.9408998265681813, 'ITUB4.SA': 1.0462002791773775, 'SLCE3.SA': 0.9763673551071368, 'VALE3.SA': 0.9063988101377841, '^BVSP': 0.9662065764553429}\n"
     ]
    }
   ],
   "source": [
    "rentabilidades = {}\n",
    "for ativo in tabela_cotacoes.columns:\n",
    "    rentabilidade = tabela_cotacoes[ativo][-1] / tabela_cotacoes[ativo][0]\n",
    "    rentabilidades[ativo] = rentabilidade\n",
    "print(rentabilidades)"
   ]
  },
  {
   "cell_type": "code",
   "execution_count": 56,
   "id": "2dc99ac7",
   "metadata": {},
   "outputs": [
    {
     "name": "stdout",
     "output_type": "stream",
     "text": [
      "valor investido inicial: \n",
      "4800.0\n",
      "valor investido final: \n",
      "4742.56\n",
      "rentabilidade da carteira: \n",
      "-1.2%\n",
      "rentabilidade indice: \n",
      "-3.4%\n"
     ]
    }
   ],
   "source": [
    "valor_inicial = sum(carteira.values())\n",
    "valor_final = sum(carteira[ativo] * rentabilidades[ativo] for ativo in carteira)\n",
    "rentabilidade_carteira = valor_final / valor_inicial -1\n",
    "rentabilidade_indice = rentabilidades[\"^BVSP\"] -1\n",
    "print(\"valor investido inicial: \")\n",
    "print(valor_inicial)\n",
    "print(\"valor investido final: \")\n",
    "print(f\"{valor_final:.2f}\")\n",
    "print(\"rentabilidade da carteira: \")\n",
    "print(f\"{rentabilidade_carteira:.1%}\")\n",
    "print(\"rentabilidade indice: \")\n",
    "print( f\"{rentabilidade_indice:.1%}\")"
   ]
  }
 ],
 "metadata": {
  "kernelspec": {
   "display_name": "Python 3 (ipykernel)",
   "language": "python",
   "name": "python3"
  },
  "language_info": {
   "codemirror_mode": {
    "name": "ipython",
    "version": 3
   },
   "file_extension": ".py",
   "mimetype": "text/x-python",
   "name": "python",
   "nbconvert_exporter": "python",
   "pygments_lexer": "ipython3",
   "version": "3.7.3"
  }
 },
 "nbformat": 4,
 "nbformat_minor": 5
}
